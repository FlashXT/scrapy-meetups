{
 "cells": [
  {
   "cell_type": "code",
   "execution_count": null,
   "metadata": {
    "collapsed": true
   },
   "outputs": [],
   "source": [
    "import json\n",
    "\n",
    "data = []\n",
    "for i, line in enumerate(open('meetups.json')):\n",
    "\tline = line.strip()\n",
    "\tif line.startswith('[{'):\n",
    "\t\tline = line[1:]\n",
    "\tif line.endswith('},'):\n",
    "\t\tline = line[:-1]\n",
    "\tif i % 10000 == 0:\n",
    "\t\tprint('..',i)\n",
    "\ttry:\n",
    "\t\tdata.append(json.loads(line))\n",
    "\texcept:\n",
    "\t\tprint('fail at',i)"
   ]
  },
  {
   "cell_type": "code",
   "execution_count": 22,
   "metadata": {
    "collapsed": false
   },
   "outputs": [
    {
     "name": "stdout",
     "output_type": "stream",
     "text": [
      "groups 77139\n",
      "events 57823\n",
      "members 93244\n"
     ]
    }
   ],
   "source": [
    "def member_id(url):\n",
    "    if '/members/' not in url:\n",
    "        return None\n",
    "    return int(url.split('/members/')[-1].replace('/',''))\n",
    "\n",
    "groups = {x['url']:x for x in data if x['type'] == 'group'}\n",
    "print('groups',len(groups.keys()))\n",
    "events = {x['url']:x for x in data if x['type'] == 'event'}\n",
    "print('events',len(events.keys()))\n",
    "members = {member_id(x['url']):x for x in data if x['type'] == 'member' and member_id(x['url'])}\n",
    "print('members',len(members.keys()))"
   ]
  },
  {
   "cell_type": "code",
   "execution_count": 29,
   "metadata": {
    "collapsed": false
   },
   "outputs": [
    {
     "name": "stdout",
     "output_type": "stream",
     "text": [
      "http://www.meetup.com/littleton-corgi-group/\n"
     ]
    }
   ],
   "source": [
    "for key in groups:\n",
    "    if 'littleton' in key:\n",
    "        print(key)"
   ]
  },
  {
   "cell_type": "code",
   "execution_count": 39,
   "metadata": {
    "collapsed": false
   },
   "outputs": [
    {
     "name": "stdout",
     "output_type": "stream",
     "text": [
      "Who are we?  What is that? -> Paloma C.\n",
      "Who are we?  What is that? -> Nash B.\n",
      "Who are we?  What is that? -> Ángel F.\n",
      "Who are we?  What is that? -> ?\n",
      "Holistic Community, Central Valley -> Who are we?  What is that?\n",
      "Jurassic World 3D in Danvers -> tomblueyez\n",
      "Jurassic World 3D in Danvers -> Ana T.\n",
      "Jurassic World 3D in Danvers -> Michael F.\n",
      "Jurassic World 3D in Danvers -> Johnnie\n",
      "MovieMen -> Jurassic World 3D in Danvers\n",
      "296504 links\n"
     ]
    }
   ],
   "source": [
    "def group_url(event_url):\n",
    "    return event_url.split('/events/')[0]+'/'\n",
    "\n",
    "links = []\n",
    "for event in events.values():\n",
    "    event_node = {\n",
    "        'id':event['url'],\n",
    "        'label':event['title'].strip(),\n",
    "        'type':'event'\n",
    "    }\n",
    "    for attendee in event['attendees']:\n",
    "        if '/members/' not in attendee:\n",
    "            continue\n",
    "        id = member_id(attendee)\n",
    "        links.append({\n",
    "            'source': event_node,\n",
    "            'target':{\n",
    "                'id': id,\n",
    "                'label': members.get(id,{}).get('name','?').strip(),\n",
    "                'type':'member'\n",
    "            }\n",
    "        })\n",
    "    grp_url = group_url(event['url'])\n",
    "    links.append({\n",
    "        'target': event_node,\n",
    "        'source': {\n",
    "            'id': grp_url,\n",
    "            'label': groups.get(grp_url,{}).get('name','?').strip(),\n",
    "            'type':'group'\n",
    "        }\n",
    "    })\n",
    "                     \n",
    "for link in links[:10]:\n",
    "    print(link['source']['label'],'->',link['target']['label'])\n",
    "\n",
    "print(len(links), 'links')\n",
    "    \n",
    "with open('graph.json','w') as f:\n",
    "    json.dump(links, f, indent=2)"
   ]
  }
 ],
 "metadata": {
  "kernelspec": {
   "display_name": "Python 3",
   "language": "python",
   "name": "python3"
  },
  "language_info": {
   "codemirror_mode": {
    "name": "ipython",
    "version": 3
   },
   "file_extension": ".py",
   "mimetype": "text/x-python",
   "name": "python",
   "nbconvert_exporter": "python",
   "pygments_lexer": "ipython3",
   "version": "3.4.3"
  }
 },
 "nbformat": 4,
 "nbformat_minor": 0
}
