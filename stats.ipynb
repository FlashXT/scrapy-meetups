{
 "cells": [
  {
   "cell_type": "code",
   "execution_count": 1,
   "metadata": {
    "collapsed": false
   },
   "outputs": [
    {
     "name": "stdout",
     "output_type": "stream",
     "text": [
      ".. 0\n",
      "fail at 88\n",
      "fail at 441\n",
      "fail at 579\n",
      ".. 10000\n",
      ".. 20000\n",
      ".. 30000\n",
      "fail at 36295\n",
      ".. 40000\n",
      ".. 50000\n",
      ".. 60000\n",
      ".. 70000\n",
      ".. 80000\n",
      ".. 90000\n",
      ".. 100000\n",
      ".. 110000\n",
      ".. 120000\n",
      ".. 130000\n",
      ".. 140000\n",
      ".. 150000\n",
      ".. 160000\n",
      ".. 170000\n",
      ".. 180000\n",
      ".. 190000\n",
      ".. 200000\n",
      ".. 210000\n",
      ".. 220000\n",
      ".. 230000\n",
      ".. 240000\n",
      "fail at 248383\n"
     ]
    }
   ],
   "source": [
    "import json\n",
    "\n",
    "data = []\n",
    "for i, line in enumerate(open('meetups.json')):\n",
    "\tline = line.strip()\n",
    "\tif line.startswith('[{'):\n",
    "\t\tline = line[1:]\n",
    "\tif line.endswith('},'):\n",
    "\t\tline = line[:-1]\n",
    "\tif i % 10000 == 0:\n",
    "\t\tprint('..',i)\n",
    "\ttry:\n",
    "\t\tdata.append(json.loads(line))\n",
    "\texcept:\n",
    "\t\tprint('fail at',i)"
   ]
  },
  {
   "cell_type": "code",
   "execution_count": 18,
   "metadata": {
    "collapsed": false
   },
   "outputs": [
    {
     "name": "stdout",
     "output_type": "stream",
     "text": [
      "groups 16368\n",
      "events 7950\n",
      "members 11970\n"
     ]
    }
   ],
   "source": [
    "groups = [x for x in data if x['type'] == 'group']\n",
    "print('groups',len(groups))\n",
    "events = [x for x in data if x['type'] == 'event']\n",
    "print('events',len(events))\n",
    "members = [x for x in data if x['type'] == 'member']\n",
    "print('members',len(members))"
   ]
  },
  {
   "cell_type": "code",
   "execution_count": 3,
   "metadata": {
    "collapsed": false
   },
   "outputs": [
    {
     "data": {
      "text/plain": [
       "{'description': '<div class=\"groupDesc docSection\" id=\"groupDesc\">\\n<p>Breathe M e d i t a t e Live Explore the power of breath! In our meetups see how you can tune your emotions through your breath, experience a guided meditation, stretch your body through Yoga. Learn about Art of Living Foundation which is accredited by UN &amp; spread over 150 countries within a span of 28 years!!! Join for frequent meetups related to Yoga, Meditation, Pranayama, &amp; Kirtan (Chantings). Art of Living is about self improvement, empowerment, stress relief, better living, enthusiasm, building better relationship &amp; much more. Meet the volunteers who have been with foundation &amp; who love to share what they have learnt. www.artofliving.org/us-en/overview</p>\\n</div>',\n",
       " 'location': {'country-name': 'us',\n",
       "  'latitude': 42.45,\n",
       "  'locality': 'Ithaca',\n",
       "  'longitude': -76.5,\n",
       "  'placename': 'Ithaca, New York, USA',\n",
       "  'postal-code': '14850',\n",
       "  'region': 'NY'},\n",
       " 'name': 'Breathe & Meditate by Art of Living Ithaca NY chapter',\n",
       " 'number_of_members': 217,\n",
       " 'type': 'group',\n",
       " 'url': 'http://www.meetup.com/Breathe-Meditate-by-Art-of-Living-Ithaca-NY-chapter/'}"
      ]
     },
     "execution_count": 3,
     "metadata": {},
     "output_type": "execute_result"
    }
   ],
   "source": [
    "groups[231]"
   ]
  },
  {
   "cell_type": "code",
   "execution_count": 19,
   "metadata": {
    "collapsed": false,
    "scrolled": true
   },
   "outputs": [
    {
     "name": "stdout",
     "output_type": "stream",
     "text": [
      "\n",
      "country-name    -    7950 values, 46 distincts\n",
      "----\n",
      "65.2% (5180) us\n",
      "7.3% (579) gb\n",
      "7.1% (564) au\n",
      "5.4% (429) ca\n",
      "1.8% (142) es\n",
      "1.7% (137) za\n",
      "1.1% (89) in\n",
      "1.0% (77) ie\n",
      "0.9% (74) de\n",
      "0.9% (69) nz\n",
      "\n",
      "\n",
      "placename    -    7950 values, 2448 distincts\n",
      "----\n",
      "2.7% (211) New York,NY, us\n",
      "1.8% (142) London,, gb\n",
      "1.5% (123) San Francisco,CA, us\n",
      "1.3% (103) Austin,TX, us\n",
      "1.2% (93) Melbourne,, au\n",
      "1.2% (92) Sydney,, au\n",
      "1.0% (78) Seattle,WA, us\n",
      "1.0% (78) Los Angeles,CA, us\n",
      "1.0% (76) Johannesburg,, za\n",
      "1.0% (76) San Diego,CA, us\n",
      "\n",
      "\n",
      "region    -    7950 values, 124 distincts\n",
      "----\n",
      "16.1% (1282) CA\n",
      "7.0% (558) AU\n",
      "5.9% (467) NY\n",
      "4.7% (370) TX\n",
      "3.3% (260) IL\n",
      "3.1% (244) PA\n",
      "3.0% (241) FL\n",
      "3.0% (235) ON\n",
      "2.8% (219) WA\n",
      "2.6% (210) 17\n",
      "\n",
      "\n",
      "# of attendees    -    7950 values, 95 distincts\n",
      "----\n",
      "30.7% (2440) 1\n",
      "16.1% (1281) 2\n",
      "10.1% (803) 3\n",
      "7.6% (604) 4\n",
      "5.6% (446) 5\n",
      "4.1% (324) 6\n",
      "3.3% (259) 7\n",
      "2.7% (214) 8\n",
      "2.1% (169) 9\n",
      "2.0% (160) 10\n",
      "\n",
      "\n",
      "title    -    7950 values, 7232 distincts\n",
      "----\n",
      "0.1% (7) Tai Chi & Chi Kung in Lonehill Park\n",
      "0.1% (6) NodeSchool\n",
      "0.1% (6) Monthly Meetup\n",
      "0.1% (6) Meditation\n",
      "0.1% (6) Let's do Lunch\n",
      "0.1% (6) Monthly Meeting\n",
      "0.1% (5) RMA Self Defense meetup on every Tuesday & Thursday - 7:00 PM\n",
      "0.1% (5) SPECIAL FREE: MEDITATION 101 LIVE\n",
      "0.1% (5) Circling Lab (all levels - free to beginners, donation)\n",
      "0.1% (5) The Mothers' Club - It's Legend-Dairy!  Awesome New Moms Group!\n",
      "\n"
     ]
    }
   ],
   "source": [
    "from collections import Counter\n",
    "\n",
    "def stats(arr,key,keygetter=lambda el, key:el[key],limit=10):\n",
    "    def flat(arr):\n",
    "        for x in arr:\n",
    "            if type(x) == type([]):\n",
    "                yield from flat(x)\n",
    "            else:\n",
    "                x = str(x)\n",
    "                yield x.strip()\n",
    "\n",
    "    c = Counter(flat([keygetter(el,key) for el in arr]))\n",
    "\n",
    "    count_all = len(arr)\n",
    "    count_distinct = len(c)\n",
    "    print()\n",
    "    print(key,\"   -   \",count_all,\"values,\",count_distinct,\"distincts\")\n",
    "    print('----')\n",
    "\n",
    "    for el,n in c.most_common(limit):\n",
    "        p = n/count_all*100\n",
    "        print(\"{:.1f}% ({}) {}\".format(p,n,el))\n",
    "    print()\n",
    "\n",
    "stats(events,\"country-name\",lambda el,key:el[\"location\"][key], limit=10)\n",
    "stats(events,\"placename\",lambda el,key:el[\"location\"][key])\n",
    "stats(events,\"region\",lambda el,key:el[\"location\"][key])\n",
    "stats(events,\"# of attendees\",lambda el,key:len(el[\"attendees\"]))\n",
    "stats(events,\"title\")\n",
    "\n",
    "\n"
   ]
  },
  {
   "cell_type": "code",
   "execution_count": 19,
   "metadata": {
    "collapsed": false,
    "scrolled": true
   },
   "outputs": [
    {
     "name": "stdout",
     "output_type": "stream",
     "text": [
      "\n",
      "country-name    -    88028 values, 113 distincts\n",
      "----\n",
      "61.9% (54489) us\n",
      "7.0% (6203) gb\n",
      "5.8% (5088) ca\n",
      "3.9% (3437) in\n",
      "3.7% (3276) au\n",
      "1.4% (1210) de\n",
      "1.1% (974) es\n",
      "1.0% (905) fr\n",
      "0.9% (836) nz\n",
      "0.9% (824) it\n",
      "\n",
      "\n",
      "placename    -    88028 values, 6598 distincts\n",
      "----\n",
      "3.0% (2680) London, Greater London, United Kingdom\n",
      "2.6% (2331) New York, New York, USA\n",
      "1.4% (1246) San Francisco, California, USA\n",
      "1.4% (1217) Los Angeles, California, USA\n",
      "1.2% (1079) Austin, Texas, USA\n",
      "1.2% (1023) Chicago, Illinois, USA\n",
      "1.1% (1002) Toronto, Ontario, Canada\n",
      "1.1% (957) Sydney, Australia\n",
      "1.1% (946) San Diego, California, USA\n",
      "1.1% (934) Seattle, Washington, USA\n",
      "\n",
      "\n",
      "region    -    88028 values, 295 distincts\n",
      "----\n",
      "14.0% (12302) CA\n",
      "5.2% (4565) NY\n",
      "4.6% (4059) TX\n",
      "4.3% (3808) IN\n",
      "4.0% (3514) FL\n",
      "3.7% (3276) AU\n",
      "3.1% (2762) 17\n",
      "2.9% (2561) CO\n",
      "2.9% (2526) ON\n",
      "2.6% (2305) IL\n",
      "\n",
      "\n",
      "name    -    88028 values, 88019 distincts\n",
      "----\n",
      "0.0% (4) DFA / OC Grassroots Progressives\n",
      "0.0% (3) Let's Explore Together\n",
      "0.0% (2) Federal SP User Group, Women in SP DC, LoudounSPUG\n",
      "0.0% (2) Socrates Cafe\n",
      "0.0% (2) Sussex Nonduality Group\n",
      "0.0% (2) The Seattle Democratic Party Meetup Group\n",
      "0.0% (1) Albany Relationships Attraction Mastery Meetup\n",
      "0.0% (1) Fairfax Energy Healing Workshop\n",
      "0.0% (1) Moscow Front-End Dev Meetup\n",
      "0.0% (1) WP Muskoka\n",
      "\n",
      "\n",
      "number_of_members    -    88028 values, 2721 distincts\n",
      "----\n",
      "2.3% (2066) 50\n",
      "0.8% (744) 1\n",
      "0.8% (731) 49\n",
      "0.7% (591) 44\n",
      "0.7% (590) 37\n",
      "0.7% (586) 48\n",
      "0.7% (574) 46\n",
      "0.6% (568) 47\n",
      "0.6% (567) 27\n",
      "0.6% (560) 29\n",
      "\n"
     ]
    }
   ],
   "source": [
    "stats(groups,\"country-name\",lambda el,key:el[\"location\"][key], limit=10)\n",
    "stats(groups,\"placename\",lambda el,key:el[\"location\"][key])\n",
    "stats(groups,\"region\",lambda el,key:el[\"location\"][key])\n",
    "stats(groups,\"name\")\n",
    "stats(groups,\"number_of_members\")"
   ]
  },
  {
   "cell_type": "code",
   "execution_count": 7,
   "metadata": {
    "collapsed": false
   },
   "outputs": [
    {
     "name": "stdout",
     "output_type": "stream",
     "text": [
      "finished :)\n"
     ]
    }
   ],
   "source": [
    "import csv\n",
    "with open('meetups_location.csv', 'w') as csvfile:\n",
    "    writer = csv.writer(csvfile)\n",
    "    writer.writerow(['url','name', 'lat','lng'])\n",
    "    for group in groups:\n",
    "        writer.writerow([group.get('url'), group.get('name'), \\\n",
    "                         group['location'].get('latitude'), group['location'].get('longitude')])\n",
    "print('finished :)')"
   ]
  },
  {
   "cell_type": "code",
   "execution_count": 16,
   "metadata": {
    "collapsed": false
   },
   "outputs": [
    {
     "name": "stdout",
     "output_type": "stream",
     "text": [
      "387 Live event with Art Wolfe: Light, Color & Emotional Impact\n",
      "268 Season 3 Episode 2\n",
      "250 SAST VÄST Möte Q3 - EXPO\n",
      "169 Glug Brighton Sweet16\n",
      "157 Distributed Random Forest\n",
      "156 Tech Startups and New Ideas Night\n",
      "156 TEDxWhiteCity - Israel's Largest TEDx (tickets available)\n",
      "153 ...BACHECA COMUNICAZIONI...\n",
      "139 Derrick és Harry: Miért nem változik soha semmi?\n",
      "133 AAWS 2016 Weekend Trip-Where you wanna go Girl?\n"
     ]
    }
   ],
   "source": [
    "events_sorted = sorted(events, key=lambda x:-len(x['attendees']))\n",
    "for event in events_sorted[:10]:\n",
    "    print(len(event['attendees']), event['title'])"
   ]
  }
 ],
 "metadata": {
  "kernelspec": {
   "display_name": "Python 3",
   "language": "python",
   "name": "python3"
  },
  "language_info": {
   "codemirror_mode": {
    "name": "ipython",
    "version": 3
   },
   "file_extension": ".py",
   "mimetype": "text/x-python",
   "name": "python",
   "nbconvert_exporter": "python",
   "pygments_lexer": "ipython3",
   "version": "3.4.3"
  }
 },
 "nbformat": 4,
 "nbformat_minor": 0
}
